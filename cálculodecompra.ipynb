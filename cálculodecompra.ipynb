{
  "nbformat": 4,
  "nbformat_minor": 0,
  "metadata": {
    "colab": {
      "provenance": [],
      "authorship_tag": "ABX9TyN12tG5FM6lrcvEUXWMeN5r",
      "include_colab_link": true
    },
    "kernelspec": {
      "name": "python3",
      "display_name": "Python 3"
    },
    "language_info": {
      "name": "python"
    }
  },
  "cells": [
    {
      "cell_type": "markdown",
      "metadata": {
        "id": "view-in-github",
        "colab_type": "text"
      },
      "source": [
        "<a href=\"https://colab.research.google.com/github/matheuspimentel10/programaparacalculardescontos/blob/main/c%C3%A1lculodecompra.ipynb\" target=\"_parent\"><img src=\"https://colab.research.google.com/assets/colab-badge.svg\" alt=\"Open In Colab\"/></a>"
      ]
    },
    {
      "cell_type": "code",
      "execution_count": null,
      "metadata": {
        "colab": {
          "base_uri": "https://localhost:8080/"
        },
        "id": "nKURP1x7jmBX",
        "outputId": "c47c02f2-ef62-4603-bae7-ab94181b3bae"
      },
      "outputs": [
        {
          "output_type": "stream",
          "name": "stdout",
          "text": [
            "Seja bem-vindo à nossa loja de roupas!\n"
          ]
        }
      ],
      "source": [
        "\n",
        "# programa para cálculo de descontos e valor final da compra\n",
        "print('Seja bem-vindo à nossa loja de roupas!')\n",
        "\n",
        "\n",
        "\n",
        "# pede o valor da compra e a quantidade de produtos\n",
        "\n",
        "valordacompra = float(input('Digite o valor da sua compra: R$ '))\n",
        "\n",
        "quantidade = int(input('Digite a quantidade de produtos: '))\n",
        "\n",
        "\n",
        "\n",
        "# Calcula o valor total da compra\n",
        "\n",
        "valordacompra = valordacompra * quantidade\n",
        "\n",
        "\n",
        "\n",
        "# verifica qual será o desconto\n",
        "\n",
        "if valordacompra < 2500:\n",
        "\n",
        "    desconto = 0\n",
        "\n",
        "elif valordacompra < 6000:\n",
        "\n",
        "    desconto = 4\n",
        "\n",
        "elif valordacompra < 10000:\n",
        "\n",
        "    desconto = 7\n",
        "\n",
        "else:\n",
        "\n",
        "    desconto = 11\n",
        "\n",
        "\n",
        "\n",
        "# Calcula qual será o desconto e o valor final da compra\n",
        "\n",
        "valordesconto = valordacompra * (desconto / 100)\n",
        "\n",
        "valorfinal = valordacompra - valordesconto\n",
        "\n",
        "\n",
        "\n",
        "# Exibe os resultados\n",
        "\n",
        "print('\\nResumo da compra:')\n",
        "\n",
        "print(f'Quantidade de produtos: {quantidade}')\n",
        "\n",
        "print(f'Valor unitário: R$ {valordacompra:.2f}')\n",
        "\n",
        "print(f'Valor total sem desconto: R$ {valordacompra:.2f}')\n",
        "\n",
        "print(f'Desconto aplicado: {desconto}%')\n",
        "\n",
        "print(f'Valor do desconto: R$ {valordesconto:.2f}')\n",
        "\n",
        "print(f'Valor final com desconto: R$ {valorfinal:.2f}')"
      ]
    }
  ]
}